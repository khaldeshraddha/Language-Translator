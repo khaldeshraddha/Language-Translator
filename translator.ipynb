{
 "cells": [
  {
   "cell_type": "code",
   "execution_count": 1,
   "metadata": {},
   "outputs": [],
   "source": [
    "from tkinter import *\n",
    "from tkinter import ttk\n",
    "from googletrans import Translator,LANGUAGES"
   ]
  },
  {
   "cell_type": "code",
   "execution_count": 2,
   "metadata": {},
   "outputs": [],
   "source": [
    "root=Tk()\n",
    "root.geometry('1100x350')\n",
    "root.resizable(0,0)\n",
    "\n",
    "root['bg']='pink'\n",
    "\n",
    "root.title(\"Language Translator by shraddha\")\n",
    "Label(root,text=\"Language Translator\",font=\"Arial 20 bold\").pack()\n",
    "\n",
    "#root.mainloop()"
   ]
  },
  {
   "cell_type": "code",
   "execution_count": 3,
   "metadata": {},
   "outputs": [],
   "source": [
    "Label(root,text=\"Enter Text\", font='arial 13 bold', bg ='white').place(x=165, y=90)"
   ]
  },
  {
   "cell_type": "code",
   "execution_count": 4,
   "metadata": {},
   "outputs": [
    {
     "data": {
      "text/plain": [
       "''"
      ]
     },
     "execution_count": 4,
     "metadata": {},
     "output_type": "execute_result"
    }
   ],
   "source": [
    "Input_text= Entry(root, width= 60)\n",
    "Input_text.place(x=30,y= 130)\n",
    "Input_text.get()"
   ]
  },
  {
   "cell_type": "code",
   "execution_count": 5,
   "metadata": {},
   "outputs": [],
   "source": [
    "Label(root, text= \"Output\", font ='arial 13 bold',bg='white').place(x=700, y=90)\n",
    "\n",
    "\n",
    "Output_text=Text(root,font='arial 10', height = 5, wrap= WORD, padx=5, pady=5, width=50)\n",
    "\n",
    "Output_text.place(x=600, y=130)\n",
    "language=list(LANGUAGES.values())\n",
    "dest_lang=ttk.Combobox(root, values =language,width=22)\n",
    "dest_lang.place(x=130,y=160)\n",
    "dest_lang.set('Choose Language')\n",
    "def Translate():\n",
    "    translator=Translator()\n",
    "    translated=translator.translate(text=Input_text.get(),dest=dest_lang.get())\n",
    "    Output_text.delete(1.0,END)\n",
    "    Output_text.insert(END,translated.text)\n",
    "\n",
    "trans_btn=Button(root,text=\"Translate\",font='arial 12 bold',pady=5,command =Translate,bg=\"orange\",activebackground='green')\n",
    "trans_btn.place(x=455,y=180)\n",
    "root.mainloop()"
   ]
  },
  {
   "cell_type": "code",
   "execution_count": null,
   "metadata": {},
   "outputs": [],
   "source": []
  }
 ],
 "metadata": {
  "kernelspec": {
   "display_name": "Python 3",
   "language": "python",
   "name": "python3"
  },
  "language_info": {
   "codemirror_mode": {
    "name": "ipython",
    "version": 3
   },
   "file_extension": ".py",
   "mimetype": "text/x-python",
   "name": "python",
   "nbconvert_exporter": "python",
   "pygments_lexer": "ipython3",
   "version": "3.7.6"
  }
 },
 "nbformat": 4,
 "nbformat_minor": 4
}
